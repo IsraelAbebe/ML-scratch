{
 "cells": [
  {
   "cell_type": "code",
   "execution_count": 1,
   "metadata": {},
   "outputs": [],
   "source": [
    "\n",
    "\n",
    "import random as rd\n",
    "import numpy as np\n",
    "import seaborn as sn\n",
    "import pandas as pd\n",
    "\n",
    "import matplotlib.pyplot as plt\n",
    "\n",
    "from mpl_toolkits.mplot3d import Axes3D\n",
    "import seaborn as sns\n",
    "import random"
   ]
  },
  {
   "cell_type": "code",
   "execution_count": 2,
   "metadata": {},
   "outputs": [],
   "source": [
    "mu1 = -1\n",
    "mu2 = 3\n",
    "sig1 = 0.5\n",
    "sig2 = 1\n",
    "N = 100\n",
    "np.random.seed(10)\n",
    "x11=np.random.randn(N,1)*sig1 + mu1\n",
    "x12=np.random.randn(N,1)*sig1 + mu1+3\n",
    "x21=np.random.randn(N,1)*sig2 + mu2\n",
    "x22=np.random.randn(N,1)*sig2 + mu2+3\n",
    "c = np.vstack((-np.ones((N,1)), np.ones((N,1))))\n",
    "x1 = np.hstack((x11,x12))\n",
    "x2 = np.hstack((x21,x22))\n",
    "\n",
    "X = np.hstack( (np.vstack( (x1,x2) ),c) )\n",
    "np.random.shuffle(X)\n",
    "dataset = pd.DataFrame(data=X, columns=['x','y','c'])\n"
   ]
  },
  {
   "cell_type": "code",
   "execution_count": 3,
   "metadata": {},
   "outputs": [
    {
     "data": {
      "image/png": "[encoded data removed]",
      "text/plain": [
       "<Figure size 432x288 with 1 Axes>"
      ]
     },
     "metadata": {
      "needs_background": "light"
     },
     "output_type": "display_data"
    }
   ],
   "source": [
    "plt.scatter(x=x1,y=x2)\n",
    "plt.show()"
   ]
  },
  {
   "cell_type": "code",
   "execution_count": 4,
   "metadata": {},
   "outputs": [],
   "source": [
    "# sns.pairplot(data=dataset)"
   ]
  },
  {
   "cell_type": "code",
   "execution_count": null,
   "metadata": {},
   "outputs": [],
   "source": []
  },
  {
   "cell_type": "markdown",
   "metadata": {},
   "source": [
    "Algorithmic steps for k-means clustering\n",
    "\n",
    "Let  X = {x1,x2,x3,……..,xn} be the set of data points and V = {v1,v2,…….,vc} be the set of centers.\n",
    "\n",
    "1) Randomly select ‘c’ cluster centers.\n",
    "\n",
    "2) Calculate the distance between each data point and cluster centers.\n",
    "\n",
    "3) Assign the data point to the cluster center whose distance from the cluster center is minimum of all the cluster centers..\n",
    "\n",
    "4) Recalculate the new cluster center using: \n",
    "\n",
    "\n",
    "\n",
    "\n",
    "where, ‘ci’ represents the number of data points in ith cluster.\n",
    "\n",
    "\n",
    "\n",
    "5) Recalculate the distance between each data point and new obtained cluster centers.\n",
    "\n",
    "6) If no data point was reassigned then stop, otherwise repeat from step 3).\n",
    "\n",
    "\n",
    "\n",
    "### source \n",
    "\n",
    "https://sites.google.com/site/dataclusteringalgorithms/k-means-clustering-algorithm"
   ]
  },
  {
   "cell_type": "code",
   "execution_count": null,
   "metadata": {},
   "outputs": [],
   "source": []
  },
  {
   "cell_type": "code",
   "execution_count": 5,
   "metadata": {},
   "outputs": [],
   "source": [
    "def kmeans_helper(dataset_list,k,centers=None):\n",
    "    distances = []\n",
    "    # FOR EACH DATASERT ITEM AND FOR EACH CENTERS CALCULATE A DISTANCE\n",
    "    for i in dataset_list:\n",
    "        distance = []\n",
    "        for j in centers:\n",
    "            distance.append(np.sqrt(np.sum((i - j) ** 2)))\n",
    "        distances.append(distance)\n",
    "        \n",
    "    distances = np.array(distances)\n",
    "    \n",
    "    #CREATE ARRAY CONTAINING LISTS,DISTANCE, AND WHICH THEY ARE CLOSE TO\n",
    "    distanced_combined = []\n",
    "    for i in distances:\n",
    "        val = i.argmin()\n",
    "        distanced_combined.append([i.tolist(),i[val],val])\n",
    "        \n",
    "    # FOR EACH ARRAY CLOSE TO ONE OF THE CLUSTERS  FIND THE MINIMUM ON AND \n",
    "    # ASSIGN AS A CENTER\n",
    "    new_centers = []\n",
    "    for i in range(k):\n",
    "        distanced_combined = np.array(distanced_combined)\n",
    "        _item = distanced_combined[np.where(distanced_combined[:,2]==i)]\n",
    "        \n",
    "        print(_item[:,0])\n",
    "        \n",
    "        center_item = 1/k * np.mean(_item[:,0],axis=1)\n",
    "        new_centers.append(center_item)\n",
    "        \n",
    "        \n",
    "    #RETURN THE NEW CENTER\n",
    "    return np.array(new_centers)\n",
    "        \n",
    "            "
   ]
  },
  {
   "cell_type": "code",
   "execution_count": 6,
   "metadata": {},
   "outputs": [],
   "source": [
    "def k_means(dataset_list,k):\n",
    "    # PREOVIDE A RANDOM CENTERS FOR THE HELPER FUNCTION\n",
    "    random.seed(1)\n",
    "    random_numbers = random.sample(range(1, len(dataset_list)), k)\n",
    "    centers = [] \n",
    "    for i in random_numbers:\n",
    "        centers.append(dataset_list[i])\n",
    "    \n",
    "    centers = np.array(centers)\n",
    "    \n",
    "    \n",
    "    \n",
    "    # CALL CENTER FUNCTION UNTIL THE NEW AND THE OLD CENTERS ARE THE SAME\n",
    "    while True:\n",
    "        x = kmeans_helper(dataset_list=dataset_list,k=k,centers=centers)\n",
    "        break\n",
    "        print('new center',x.tolist())\n",
    "        if np.array_equal(x,centers):\n",
    "            break\n",
    "        else:\n",
    "            centers = x\n",
    "    \n",
    "    return centers\n",
    "    "
   ]
  },
  {
   "cell_type": "code",
   "execution_count": 254,
   "metadata": {},
   "outputs": [
    {
     "name": "stdout",
     "output_type": "stream",
     "text": [
      "[list([1.0755043944980678, 5.046327954457014])\n",
      " list([0.8739388513027321, 3.332542071285204])\n",
      " list([0.7394774388779259, 4.774265073543745])\n",
      " list([2.0114497142517975, 5.502251109626793])\n",
      " list([1.5320686531426715, 4.573846814704664])\n",
      " list([0.9012485082034453, 4.755921346662673])\n",
      " list([1.1612811860714394, 5.012504206070806])\n",
      " list([2.2194819044675094, 5.947055031854984])\n",
      " list([3.248791407856112, 7.346566033054655])\n",
      " list([3.1291307944036215, 7.134272356035444])\n",
      " list([2.1579372553593337, 4.260303142567833])\n",
      " list([2.4780846738724365, 4.3576989082007085])\n",
      " list([0.7417455749518639, 4.798752009486988])\n",
      " list([2.5837284006284174, 6.107326889157132])\n",
      " list([2.3746165145633964, 5.467084364375016])\n",
      " list([2.1469484187019807, 5.8273537229272945])\n",
      " list([1.265504317770242, 5.371878591107761])\n",
      " list([1.3482235198057948, 3.8249097245029815])\n",
      " list([1.508807255225948, 5.5076506859411225])\n",
      " list([1.4126455912262823, 5.456982475368664])\n",
      " list([0.0, 4.106394839957699])\n",
      " list([0.5854979701177401, 3.711778660521818])\n",
      " list([2.24421610341917, 5.95040207787104])\n",
      " list([2.6825392102057326, 5.729176749478768])\n",
      " list([2.439426643041482, 6.162308022005126])\n",
      " list([1.1014467118880709, 5.185695483253202])\n",
      " list([1.895041584617277, 5.487662776042183])\n",
      " list([1.86905485381037, 5.604153149838058])\n",
      " list([1.633686932007501, 5.479354757329698])\n",
      " list([2.2673995126689204, 5.904093993460291])\n",
      " list([2.6312016354998082, 5.559785407892436])\n",
      " list([2.5057748869267673, 6.209116340883629])\n",
      " list([1.7366906879586694, 4.750403685756226])\n",
      " list([1.9980150639725889, 5.9782783071136185])\n",
      " list([1.325351864117317, 4.022416790922163])\n",
      " list([2.093763166047924, 5.092765284618953])\n",
      " list([3.177505347153405, 6.969924936250392])\n",
      " list([0.6343547003377668, 4.071606092011707])\n",
      " list([1.422391387907958, 4.271941948370473])\n",
      " list([2.840859295995424, 6.5264839938074255])\n",
      " list([1.4725591758618426, 2.8147124752171586])\n",
      " list([1.9632328999156752, 4.986256564776154])\n",
      " list([0.9585082786283738, 5.061417938468835])\n",
      " list([3.2754700888688055, 6.227580128784966])\n",
      " list([1.5014915279325385, 5.437698298523015])\n",
      " list([0.7896313601573105, 4.5187799603977075])\n",
      " list([0.3319343546267549, 4.435749118821491])\n",
      " list([2.0662131543668703, 6.072376603339979])\n",
      " list([0.9118018664429798, 3.738947221100177])\n",
      " list([2.4941845275529784, 5.6460156185870805])\n",
      " list([1.5353685654077156, 5.600883933798841])\n",
      " list([2.083042053480118, 5.924018792117754])\n",
      " list([0.8333600310874231, 4.450916087377982])\n",
      " list([1.3985346425836391, 4.92636632682669])\n",
      " list([1.6158574024716463, 4.88469729950897])\n",
      " list([2.2843960026500367, 6.114269281105465])\n",
      " list([2.5143413572028046, 6.554999557324698])\n",
      " list([1.4379042942078133, 4.973673130068904])\n",
      " list([1.261016898353108, 4.779230160567814])\n",
      " list([1.6064111271121826, 5.305290953082552])\n",
      " list([0.2781696465081758, 3.9638490858996325])\n",
      " list([1.805070927272478, 5.868760755781049])\n",
      " list([3.2223388057459785, 6.776051718211757])\n",
      " list([0.7296581760830495, 4.751386317816871])\n",
      " list([2.187352912226172, 5.795671228745699])\n",
      " list([0.1519076299607654, 4.213084074928411])\n",
      " list([2.1312331835974594, 5.766129965322466])\n",
      " list([0.7707864146604128, 4.876644384573336])\n",
      " list([0.39683163788044884, 4.108462458760603])\n",
      " list([3.6152750289622935, 6.515171740307317])\n",
      " list([2.231713723434175, 6.2370289745131675])\n",
      " list([4.0457412797884205, 7.110960605794486])\n",
      " list([1.6789429075478037, 5.448782112550896])\n",
      " list([1.609058701622116, 5.102940160146132])\n",
      " list([1.5798295075613153, 5.652897857911767])\n",
      " list([1.7173713298257325, 5.818645865374773])\n",
      " list([1.95453093809192, 4.813937759012047])\n",
      " list([0.480800422269609, 4.583226117858395])\n",
      " list([2.4961007060582756, 4.774808661130256])\n",
      " list([3.135119273260425, 5.096494803074275])\n",
      " list([1.295424582038496, 2.8158746981728475])\n",
      " list([0.6139276286491165, 4.3020796192016455])\n",
      " list([2.977560059258645, 6.71165604085548])\n",
      " list([1.8003083982543922, 5.537328622889379])\n",
      " list([2.873247170051502, 5.259705530638133])\n",
      " list([1.9075882202326488, 6.0114635666047])\n",
      " list([1.2650362048949004, 4.04191079087688])\n",
      " list([1.6347387631397448, 5.31648429118286])\n",
      " list([2.5859824608886623, 3.7996250666269207])\n",
      " list([1.8845721738822372, 5.7556384427258696])\n",
      " list([1.6592165616175416, 3.9724188229124833])\n",
      " list([2.611814773353373, 6.580461473289335])\n",
      " list([1.4653576178870453, 5.337030584404833])\n",
      " list([1.9971008100299117, 4.258989428010183])\n",
      " list([2.566182057977868, 6.671619376465895])\n",
      " list([1.383432504002213, 4.317619950647054])\n",
      " list([1.869416407171657, 5.959432106720185])\n",
      " list([1.3993717931047915, 5.302706275599969])\n",
      " list([1.1340942456436638, 5.037448199002804])\n",
      " list([1.3317139987229676, 5.372210678134508])]\n"
     ]
    },
    {
     "ename": "IndexError",
     "evalue": "tuple index out of range",
     "output_type": "error",
     "traceback": [
      "\u001b[0;31m---------------------------------------------------------------------------\u001b[0m",
      "\u001b[0;31mIndexError\u001b[0m                                Traceback (most recent call last)",
      "\u001b[0;32m<ipython-input-254-3bbff2c2d1ea>\u001b[0m in \u001b[0;36m<module>\u001b[0;34m\u001b[0m\n\u001b[1;32m      1\u001b[0m \u001b[0mdata_array\u001b[0m \u001b[0;34m=\u001b[0m \u001b[0mnp\u001b[0m\u001b[0;34m.\u001b[0m\u001b[0marray\u001b[0m\u001b[0;34m(\u001b[0m\u001b[0mdataset\u001b[0m\u001b[0;34m[\u001b[0m\u001b[0;34m[\u001b[0m\u001b[0;34m'x'\u001b[0m\u001b[0;34m,\u001b[0m\u001b[0;34m'y'\u001b[0m\u001b[0;34m]\u001b[0m\u001b[0;34m]\u001b[0m\u001b[0;34m.\u001b[0m\u001b[0mvalues\u001b[0m\u001b[0;34m.\u001b[0m\u001b[0mtolist\u001b[0m\u001b[0;34m(\u001b[0m\u001b[0;34m)\u001b[0m\u001b[0;34m)\u001b[0m\u001b[0;34m\u001b[0m\u001b[0;34m\u001b[0m\u001b[0m\n\u001b[0;32m----> 2\u001b[0;31m \u001b[0mcenters\u001b[0m \u001b[0;34m=\u001b[0m \u001b[0mk_means\u001b[0m\u001b[0;34m(\u001b[0m\u001b[0mdata_array\u001b[0m\u001b[0;34m,\u001b[0m\u001b[0;36m2\u001b[0m\u001b[0;34m)\u001b[0m\u001b[0;34m\u001b[0m\u001b[0;34m\u001b[0m\u001b[0m\n\u001b[0m",
      "\u001b[0;32m<ipython-input-253-30cbfb983ea6>\u001b[0m in \u001b[0;36mk_means\u001b[0;34m(dataset_list, k)\u001b[0m\n\u001b[1;32m     13\u001b[0m     \u001b[0;31m# CALL CENTER FUNCTION UNTIL THE NEW AND THE OLD CENTERS ARE THE SAME\u001b[0m\u001b[0;34m\u001b[0m\u001b[0;34m\u001b[0m\u001b[0;34m\u001b[0m\u001b[0m\n\u001b[1;32m     14\u001b[0m     \u001b[0;32mwhile\u001b[0m \u001b[0;32mTrue\u001b[0m\u001b[0;34m:\u001b[0m\u001b[0;34m\u001b[0m\u001b[0;34m\u001b[0m\u001b[0m\n\u001b[0;32m---> 15\u001b[0;31m         \u001b[0mx\u001b[0m \u001b[0;34m=\u001b[0m \u001b[0mkmeans_helper\u001b[0m\u001b[0;34m(\u001b[0m\u001b[0mdataset_list\u001b[0m\u001b[0;34m=\u001b[0m\u001b[0mdataset_list\u001b[0m\u001b[0;34m,\u001b[0m\u001b[0mk\u001b[0m\u001b[0;34m=\u001b[0m\u001b[0mk\u001b[0m\u001b[0;34m,\u001b[0m\u001b[0mcenters\u001b[0m\u001b[0;34m=\u001b[0m\u001b[0mcenters\u001b[0m\u001b[0;34m)\u001b[0m\u001b[0;34m\u001b[0m\u001b[0;34m\u001b[0m\u001b[0m\n\u001b[0m\u001b[1;32m     16\u001b[0m         \u001b[0;32mbreak\u001b[0m\u001b[0;34m\u001b[0m\u001b[0;34m\u001b[0m\u001b[0m\n\u001b[1;32m     17\u001b[0m         \u001b[0mprint\u001b[0m\u001b[0;34m(\u001b[0m\u001b[0;34m'new center'\u001b[0m\u001b[0;34m,\u001b[0m\u001b[0mx\u001b[0m\u001b[0;34m.\u001b[0m\u001b[0mtolist\u001b[0m\u001b[0;34m(\u001b[0m\u001b[0;34m)\u001b[0m\u001b[0;34m)\u001b[0m\u001b[0;34m\u001b[0m\u001b[0;34m\u001b[0m\u001b[0m\n",
      "\u001b[0;32m<ipython-input-252-ab95530aa977>\u001b[0m in \u001b[0;36mkmeans_helper\u001b[0;34m(dataset_list, k, centers)\u001b[0m\n\u001b[1;32m     25\u001b[0m         \u001b[0mprint\u001b[0m\u001b[0;34m(\u001b[0m\u001b[0m_item\u001b[0m\u001b[0;34m[\u001b[0m\u001b[0;34m:\u001b[0m\u001b[0;34m,\u001b[0m\u001b[0;36m0\u001b[0m\u001b[0;34m]\u001b[0m\u001b[0;34m)\u001b[0m\u001b[0;34m\u001b[0m\u001b[0;34m\u001b[0m\u001b[0m\n\u001b[1;32m     26\u001b[0m \u001b[0;34m\u001b[0m\u001b[0m\n\u001b[0;32m---> 27\u001b[0;31m         \u001b[0mcenter_item\u001b[0m \u001b[0;34m=\u001b[0m \u001b[0;36m1\u001b[0m\u001b[0;34m/\u001b[0m\u001b[0mk\u001b[0m \u001b[0;34m*\u001b[0m \u001b[0mnp\u001b[0m\u001b[0;34m.\u001b[0m\u001b[0mmean\u001b[0m\u001b[0;34m(\u001b[0m\u001b[0m_item\u001b[0m\u001b[0;34m[\u001b[0m\u001b[0;34m:\u001b[0m\u001b[0;34m,\u001b[0m\u001b[0;36m0\u001b[0m\u001b[0;34m]\u001b[0m\u001b[0;34m,\u001b[0m\u001b[0maxis\u001b[0m\u001b[0;34m=\u001b[0m\u001b[0;36m1\u001b[0m\u001b[0;34m)\u001b[0m\u001b[0;34m\u001b[0m\u001b[0;34m\u001b[0m\u001b[0m\n\u001b[0m\u001b[1;32m     28\u001b[0m         \u001b[0mnew_centers\u001b[0m\u001b[0;34m.\u001b[0m\u001b[0mappend\u001b[0m\u001b[0;34m(\u001b[0m\u001b[0mcenter_item\u001b[0m\u001b[0;34m)\u001b[0m\u001b[0;34m\u001b[0m\u001b[0;34m\u001b[0m\u001b[0m\n\u001b[1;32m     29\u001b[0m \u001b[0;34m\u001b[0m\u001b[0m\n",
      "\u001b[0;32m~/anaconda3/lib/python3.7/site-packages/numpy/core/fromnumeric.py\u001b[0m in \u001b[0;36mmean\u001b[0;34m(a, axis, dtype, out, keepdims)\u001b[0m\n\u001b[1;32m   3116\u001b[0m \u001b[0;34m\u001b[0m\u001b[0m\n\u001b[1;32m   3117\u001b[0m     return _methods._mean(a, axis=axis, dtype=dtype,\n\u001b[0;32m-> 3118\u001b[0;31m                           out=out, **kwargs)\n\u001b[0m\u001b[1;32m   3119\u001b[0m \u001b[0;34m\u001b[0m\u001b[0m\n\u001b[1;32m   3120\u001b[0m \u001b[0;34m\u001b[0m\u001b[0m\n",
      "\u001b[0;32m~/anaconda3/lib/python3.7/site-packages/numpy/core/_methods.py\u001b[0m in \u001b[0;36m_mean\u001b[0;34m(a, axis, dtype, out, keepdims)\u001b[0m\n\u001b[1;32m     60\u001b[0m \u001b[0;34m\u001b[0m\u001b[0m\n\u001b[1;32m     61\u001b[0m     \u001b[0mis_float16_result\u001b[0m \u001b[0;34m=\u001b[0m \u001b[0;32mFalse\u001b[0m\u001b[0;34m\u001b[0m\u001b[0;34m\u001b[0m\u001b[0m\n\u001b[0;32m---> 62\u001b[0;31m     \u001b[0mrcount\u001b[0m \u001b[0;34m=\u001b[0m \u001b[0m_count_reduce_items\u001b[0m\u001b[0;34m(\u001b[0m\u001b[0marr\u001b[0m\u001b[0;34m,\u001b[0m \u001b[0maxis\u001b[0m\u001b[0;34m)\u001b[0m\u001b[0;34m\u001b[0m\u001b[0;34m\u001b[0m\u001b[0m\n\u001b[0m\u001b[1;32m     63\u001b[0m     \u001b[0;31m# Make this warning show up first\u001b[0m\u001b[0;34m\u001b[0m\u001b[0;34m\u001b[0m\u001b[0;34m\u001b[0m\u001b[0m\n\u001b[1;32m     64\u001b[0m     \u001b[0;32mif\u001b[0m \u001b[0mrcount\u001b[0m \u001b[0;34m==\u001b[0m \u001b[0;36m0\u001b[0m\u001b[0;34m:\u001b[0m\u001b[0;34m\u001b[0m\u001b[0;34m\u001b[0m\u001b[0m\n",
      "\u001b[0;32m~/anaconda3/lib/python3.7/site-packages/numpy/core/_methods.py\u001b[0m in \u001b[0;36m_count_reduce_items\u001b[0;34m(arr, axis)\u001b[0m\n\u001b[1;32m     53\u001b[0m     \u001b[0mitems\u001b[0m \u001b[0;34m=\u001b[0m \u001b[0;36m1\u001b[0m\u001b[0;34m\u001b[0m\u001b[0;34m\u001b[0m\u001b[0m\n\u001b[1;32m     54\u001b[0m     \u001b[0;32mfor\u001b[0m \u001b[0max\u001b[0m \u001b[0;32min\u001b[0m \u001b[0maxis\u001b[0m\u001b[0;34m:\u001b[0m\u001b[0;34m\u001b[0m\u001b[0;34m\u001b[0m\u001b[0m\n\u001b[0;32m---> 55\u001b[0;31m         \u001b[0mitems\u001b[0m \u001b[0;34m*=\u001b[0m \u001b[0marr\u001b[0m\u001b[0;34m.\u001b[0m\u001b[0mshape\u001b[0m\u001b[0;34m[\u001b[0m\u001b[0max\u001b[0m\u001b[0;34m]\u001b[0m\u001b[0;34m\u001b[0m\u001b[0;34m\u001b[0m\u001b[0m\n\u001b[0m\u001b[1;32m     56\u001b[0m     \u001b[0;32mreturn\u001b[0m \u001b[0mitems\u001b[0m\u001b[0;34m\u001b[0m\u001b[0;34m\u001b[0m\u001b[0m\n\u001b[1;32m     57\u001b[0m \u001b[0;34m\u001b[0m\u001b[0m\n",
      "\u001b[0;31mIndexError\u001b[0m: tuple index out of range"
     ]
    }
   ],
   "source": [
    "data_array = np.array(dataset[['x','y']].values.tolist())\n",
    "centers = k_means(data_array,2)"
   ]
  },
  {
   "cell_type": "code",
   "execution_count": 255,
   "metadata": {},
   "outputs": [
    {
     "name": "stdout",
     "output_type": "stream",
     "text": [
      "CENTERS ARE [[2.8549354626749226, 4.642302439961183], [-0.5054637712502805, 2.282176263193059]]\n"
     ]
    }
   ],
   "source": [
    "print('CENTERS ARE',centers.tolist())"
   ]
  },
  {
   "cell_type": "code",
   "execution_count": null,
   "metadata": {},
   "outputs": [],
   "source": []
  },
  {
   "cell_type": "code",
   "execution_count": 256,
   "metadata": {},
   "outputs": [
    {
     "data": {
      "image/png": "[encoded data removed]",
      "text/plain": [
       "<Figure size 432x288 with 1 Axes>"
      ]
     },
     "metadata": {
      "needs_background": "light"
     },
     "output_type": "display_data"
    }
   ],
   "source": [
    "plt.scatter(x=x1,y=x2,c='g')\n",
    "plt.scatter(x = centers[0][0],y= centers[0][1],c='b')\n",
    "plt.scatter(x = centers[1][0],y= centers[1][1],c='r')\n",
    "\n",
    "plt.show()"
   ]
  },
  {
   "cell_type": "markdown",
   "metadata": {},
   "source": []
  },
  {
   "cell_type": "code",
   "execution_count": 190,
   "metadata": {},
   "outputs": [],
   "source": [
    "def closer(center,number):\n",
    "    distance = []\n",
    "    for i in center:\n",
    "        distance.append(np.sqrt(np.sum((i - number) ** 2)))\n",
    "    \n",
    "    distance = np.argmin(distance)\n",
    "    distance = np.where(distance==0, -1, distance)\n",
    "    return distance\n",
    "    "
   ]
  },
  {
   "cell_type": "code",
   "execution_count": 191,
   "metadata": {},
   "outputs": [],
   "source": [
    "data_array = np.array(dataset[['x','y']].values.tolist())\n",
    "value = np.array(dataset['c'].values.tolist())"
   ]
  },
  {
   "cell_type": "code",
   "execution_count": 192,
   "metadata": {},
   "outputs": [
    {
     "data": {
      "text/plain": [
       "array([1., 1., 1., 0., 1., 1., 1., 1., 0., 1., 1., 1., 1., 1., 1., 0., 0.,\n",
       "       1., 1., 1., 1., 1., 0., 1., 1., 1., 1., 1., 1., 1., 0., 1., 1., 1.,\n",
       "       1., 1., 1., 1., 1., 1., 1., 1., 0., 1., 1., 1., 1., 1., 1., 1., 1.,\n",
       "       1., 1., 1., 1., 1., 1., 1., 1., 1., 1., 1., 0., 1., 0., 1., 1., 1.,\n",
       "       1., 0., 0., 1., 1., 1., 0., 1., 0., 1., 1., 0., 1., 1., 1., 1., 1.,\n",
       "       1., 0., 1., 1., 1., 1., 1., 1., 0., 1., 1., 1., 1., 1., 1., 1., 1.,\n",
       "       1., 1., 1., 1., 1., 1., 1., 1., 1., 1., 1., 1., 1., 1., 1., 1., 1.,\n",
       "       1., 1., 1., 1., 1., 1., 1., 1., 1., 1., 1., 1., 1., 1., 1., 1., 0.,\n",
       "       1., 1., 1., 1., 1., 1., 1., 1., 1., 1., 1., 1., 0., 1., 1., 1., 1.,\n",
       "       1., 1., 0., 1., 1., 0., 0., 1., 1., 1., 1., 1., 1., 1., 1., 0., 1.,\n",
       "       1., 0., 1., 1., 1., 0., 1., 1., 0., 1., 1., 1., 0., 1., 1., 0., 1.,\n",
       "       1., 1., 1., 1., 1., 1., 1., 1., 1., 1., 1., 1., 1.])"
      ]
     },
     "execution_count": 192,
     "metadata": {},
     "output_type": "execute_result"
    }
   ],
   "source": [
    "a = np.zeros(len(data_array))\n",
    "for i in range(len(data_array)):\n",
    "    a[i] = int(closer(centers,data_array[i]))==int(value[i])\n",
    "    \n",
    "a"
   ]
  },
  {
   "cell_type": "code",
   "execution_count": null,
   "metadata": {},
   "outputs": [],
   "source": []
  }
 ],
 "metadata": {
  "kernelspec": {
   "display_name": "Python 3",
   "language": "python",
   "name": "python3"
  },
  "language_info": {
   "codemirror_mode": {
    "name": "ipython",
    "version": 3
   },
   "file_extension": ".py",
   "mimetype": "text/x-python",
   "name": "python",
   "nbconvert_exporter": "python",
   "pygments_lexer": "ipython3",
   "version": "3.7.3"
  }
 },
 "nbformat": 4,
 "nbformat_minor": 2
}
