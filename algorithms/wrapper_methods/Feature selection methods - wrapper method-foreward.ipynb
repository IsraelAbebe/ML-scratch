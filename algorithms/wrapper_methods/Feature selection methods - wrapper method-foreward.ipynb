{
 "cells": [
  {
   "cell_type": "code",
   "execution_count": 1,
   "metadata": {},
   "outputs": [],
   "source": [
    "from sklearn.metrics import  accuracy_score\n",
    "from sklearn.datasets import load_iris\n",
    "from itertools import combinations\n",
    "import numpy as np\n",
    "import pandas as pd\n",
    "import ast"
   ]
  },
  {
   "cell_type": "code",
   "execution_count": 2,
   "metadata": {},
   "outputs": [],
   "source": [
    "data = load_iris()"
   ]
  },
  {
   "cell_type": "code",
   "execution_count": 3,
   "metadata": {},
   "outputs": [
    {
     "data": {
      "text/plain": [
       "['sepal length (cm)',\n",
       " 'sepal width (cm)',\n",
       " 'petal length (cm)',\n",
       " 'petal width (cm)']"
      ]
     },
     "execution_count": 3,
     "metadata": {},
     "output_type": "execute_result"
    }
   ],
   "source": [
    "data['feature_names']"
   ]
  },
  {
   "cell_type": "code",
   "execution_count": 4,
   "metadata": {},
   "outputs": [],
   "source": [
    "class logisticregression():\n",
    "    def __init__(self,train_data,train_labels,lr=0.01,batch_size=None,epoch=10,print_every = 10):\n",
    "        dummy_once = np.ones((len(train_data),1))\n",
    "        self.train_data = np.hstack((dummy_once,train_data))\n",
    "        self.train_labels = train_labels\n",
    "        \n",
    "        self.params = np.zeros((len(self.train_data[0]),1))\n",
    "        \n",
    "        self.lr = lr\n",
    "        self.epoch = epoch\n",
    "        self.batch_size = batch_size\n",
    "        self.print_every = print_every\n",
    "        \n",
    "    def sigmoid(self,x):\n",
    "        return 1/(1+np.exp(-x))\n",
    "    \n",
    "    def cost(self,y,y_pred):\n",
    "        return -np.mean(y*np.log(y_pred)+(1-y)*np.log(1-y_pred))\n",
    "    \n",
    "    def gradient(self,y,y_pred,x):\n",
    "        return np.dot(x.T,(y_pred-y))\n",
    "    \n",
    "    def train(self):\n",
    "        for i in range(self.epoch):\n",
    "            y_pred = self.sigmoid(np.dot(self.train_data,self.params))\n",
    "            loss = self.cost(self.train_labels,y_pred)\n",
    "            \n",
    "            gra = self.gradient(self.train_labels,y_pred,self.train_data)\n",
    "            \n",
    "            self.params -= self.lr*gra\n",
    "            \n",
    "            if self.print_every:\n",
    "                if i%self.print_every == 0 or i == self.epoch-1:\n",
    "                    print('Epoch : {}  Loss: {}'.format(i,loss))\n",
    "    def predict(self,test_data):\n",
    "        result = self.sigmoid(np.dot(test_data,self.params[1:])+self.params[0])\n",
    "        result[result >= 0.5 ] = 1\n",
    "        result[result < 0.5 ] = 0\n",
    "        return result\n",
    "    \n",
    "    def evaluate(self,test_data,labels):\n",
    "        accuracy = accuracy_score(self.predict(test_data),labels)\n",
    "        return accuracy"
   ]
  },
  {
   "cell_type": "code",
   "execution_count": null,
   "metadata": {},
   "outputs": [],
   "source": []
  },
  {
   "cell_type": "code",
   "execution_count": 5,
   "metadata": {},
   "outputs": [],
   "source": [
    "def get_combinations(items,number):\n",
    "    comb_list = []\n",
    "    for c in combinations(items, number):\n",
    "        c = list(c)\n",
    "        c.sort()\n",
    "        comb_list.append(c)\n",
    "        \n",
    "    return comb_list"
   ]
  },
  {
   "cell_type": "code",
   "execution_count": 6,
   "metadata": {},
   "outputs": [],
   "source": [
    "def get_combinations_with(items,item,number):\n",
    "    comb_list = []\n",
    "    for i in get_combinations(items,number):\n",
    "        if item in i:\n",
    "            comb_list.append(i)\n",
    "        \n",
    "    return comb_list\n",
    "    "
   ]
  },
  {
   "cell_type": "markdown",
   "metadata": {},
   "source": [
    "Given a data and a set of features this method prepares the data \n",
    "\n"
   ]
  },
  {
   "cell_type": "code",
   "execution_count": 7,
   "metadata": {},
   "outputs": [],
   "source": [
    "def wrapper_helper(data,feature_names,target_name,train_size = 0.6,test_size = 0.4):\n",
    "    dataset = data['data'].copy()\n",
    "    target = data['target'].reshape(-1,1)\n",
    "    \n",
    "    final_data = np.hstack((dataset,target))\n",
    "    np.random.shuffle(final_data)\n",
    "    \n",
    "    pd_data = pd.DataFrame(final_data)\n",
    "    pd_data.columns= ['sepal length (cm)','sepal width (cm)','petal length (cm)','petal width (cm)','target']\n",
    "    pd_data = pd_data[(pd_data['target']==0) | (pd_data['target']==1)]\n",
    "    pd_data.tail(2)\n",
    "    \n",
    "\n",
    "    col_names = np.concatenate((feature_names,target_name),axis=None)\n",
    "    final_data = pd_data[col_names].values\n",
    "\n",
    "    train_data = final_data[:int(len(final_data)*train_size)]\n",
    "    test_data = final_data[int(len(final_data)*train_size):]\n",
    "    \n",
    "    \n",
    "\n",
    "    train_data.shape,test_data.shape \n",
    "    \n",
    "    X_train = train_data[:,:-1]\n",
    "    y_train = train_data[:,-1:]\n",
    "\n",
    "\n",
    "    X_test = test_data[:,:-1]\n",
    "    y_test = test_data[:,-1:]\n",
    "\n",
    "\n",
    "    return X_train,y_train,X_test,y_test"
   ]
  },
  {
   "cell_type": "code",
   "execution_count": 28,
   "metadata": {},
   "outputs": [],
   "source": [
    "def wrapper_method(data,names,k=2,visualize=False):\n",
    "    number = 1\n",
    "    classes = get_combinations(names,number)\n",
    "    \n",
    "    result = []\n",
    "    while True:\n",
    "        wrapper_output = {}\n",
    "\n",
    "        for i in range(len(classes)):\n",
    "            X_train,y_train,X_test,y_test = wrapper_helper(data,classes[i],['target'])\n",
    "\n",
    "            logistic = logisticregression(X_train,y_train,epoch=10,print_every=None)\n",
    "            logistic.train()\n",
    "\n",
    "            result = logistic.evaluate(X_test,y_test)\n",
    "            wrapper_output[i] = round(result,3)\n",
    "\n",
    "        \n",
    "        \n",
    "        best = sorted(wrapper_output,key=wrapper_output.get)\n",
    "        best = best[::-1]\n",
    "        \n",
    "        if visualize:\n",
    "            print('================================\\n')\n",
    "            print('INPUT ==>',classes,'\\n')\n",
    "            print('SELECTED ==>',classes[best[0]],'\\n')\n",
    "            print('ACCURACY ==>',wrapper_output)\n",
    "        \n",
    "        \n",
    "        if number == k:\n",
    "            new_wrapper_output = {}\n",
    "            for k in wrapper_output.keys():\n",
    "                new_wrapper_output[str(classes[k])] = wrapper_output[k]\n",
    "                \n",
    "            result = new_wrapper_output\n",
    "            break\n",
    "        \n",
    "        lis = get_combinations_with(names,classes[best[0]][0],number+1)\n",
    "        if visualize:\n",
    "            print('\\n NEW LIST ==>',lis)\n",
    "        \n",
    "        number +=1\n",
    "        classes = lis\n",
    "    \n",
    "    return result,classes[best[0]]"
   ]
  },
  {
   "cell_type": "code",
   "execution_count": 29,
   "metadata": {},
   "outputs": [
    {
     "name": "stdout",
     "output_type": "stream",
     "text": [
      "================================\n",
      "\n",
      "INPUT ==> [['sepal length (cm)'], ['sepal width (cm)'], ['petal length (cm)'], ['petal width (cm)']] \n",
      "\n",
      "SELECTED ==> ['petal length (cm)'] \n",
      "\n",
      "ACCURACY ==> {0: 0.45, 1: 0.525, 2: 0.875, 3: 0.75}\n",
      "\n",
      " NEW LIST ==> [['petal length (cm)', 'sepal length (cm)'], ['petal length (cm)', 'sepal width (cm)'], ['petal length (cm)', 'petal width (cm)']]\n",
      "================================\n",
      "\n",
      "INPUT ==> [['petal length (cm)', 'sepal length (cm)'], ['petal length (cm)', 'sepal width (cm)'], ['petal length (cm)', 'petal width (cm)']] \n",
      "\n",
      "SELECTED ==> ['petal length (cm)', 'sepal width (cm)'] \n",
      "\n",
      "ACCURACY ==> {0: 0.45, 1: 1.0, 2: 0.925}\n",
      "\n",
      " NEW LIST ==> [['petal length (cm)', 'sepal length (cm)', 'sepal width (cm)'], ['petal length (cm)', 'petal width (cm)', 'sepal length (cm)'], ['petal length (cm)', 'petal width (cm)', 'sepal width (cm)']]\n",
      "================================\n",
      "\n",
      "INPUT ==> [['petal length (cm)', 'sepal length (cm)', 'sepal width (cm)'], ['petal length (cm)', 'petal width (cm)', 'sepal length (cm)'], ['petal length (cm)', 'petal width (cm)', 'sepal width (cm)']] \n",
      "\n",
      "SELECTED ==> ['petal length (cm)', 'petal width (cm)', 'sepal width (cm)'] \n",
      "\n",
      "ACCURACY ==> {0: 0.95, 1: 0.775, 2: 1.0}\n",
      "\n",
      " NEW LIST ==> [['petal length (cm)', 'petal width (cm)', 'sepal length (cm)', 'sepal width (cm)']]\n",
      "================================\n",
      "\n",
      "INPUT ==> [['petal length (cm)', 'petal width (cm)', 'sepal length (cm)', 'sepal width (cm)']] \n",
      "\n",
      "SELECTED ==> ['petal length (cm)', 'petal width (cm)', 'sepal length (cm)', 'sepal width (cm)'] \n",
      "\n",
      "ACCURACY ==> {0: 0.875}\n"
     ]
    },
    {
     "data": {
      "text/plain": [
       "({\"['petal length (cm)', 'petal width (cm)', 'sepal length (cm)', 'sepal width (cm)']\": 0.875},\n",
       " ['petal length (cm)',\n",
       "  'petal width (cm)',\n",
       "  'sepal length (cm)',\n",
       "  'sepal width (cm)'])"
      ]
     },
     "execution_count": 29,
     "metadata": {},
     "output_type": "execute_result"
    }
   ],
   "source": [
    "\n",
    "wrapper_method(data,data['feature_names'],4,visualize=True)"
   ]
  },
  {
   "cell_type": "code",
   "execution_count": null,
   "metadata": {},
   "outputs": [],
   "source": []
  },
  {
   "cell_type": "code",
   "execution_count": null,
   "metadata": {},
   "outputs": [],
   "source": []
  },
  {
   "cell_type": "code",
   "execution_count": null,
   "metadata": {},
   "outputs": [],
   "source": []
  },
  {
   "cell_type": "code",
   "execution_count": null,
   "metadata": {},
   "outputs": [],
   "source": []
  },
  {
   "cell_type": "code",
   "execution_count": null,
   "metadata": {},
   "outputs": [],
   "source": []
  },
  {
   "cell_type": "code",
   "execution_count": null,
   "metadata": {},
   "outputs": [],
   "source": []
  },
  {
   "cell_type": "code",
   "execution_count": null,
   "metadata": {},
   "outputs": [],
   "source": []
  },
  {
   "cell_type": "code",
   "execution_count": null,
   "metadata": {},
   "outputs": [],
   "source": []
  },
  {
   "cell_type": "code",
   "execution_count": null,
   "metadata": {},
   "outputs": [],
   "source": []
  },
  {
   "cell_type": "code",
   "execution_count": null,
   "metadata": {},
   "outputs": [],
   "source": []
  }
 ],
 "metadata": {
  "kernelspec": {
   "display_name": "Python 3",
   "language": "python",
   "name": "python3"
  },
  "language_info": {
   "codemirror_mode": {
    "name": "ipython",
    "version": 3
   },
   "file_extension": ".py",
   "mimetype": "text/x-python",
   "name": "python",
   "nbconvert_exporter": "python",
   "pygments_lexer": "ipython3",
   "version": "3.7.3"
  }
 },
 "nbformat": 4,
 "nbformat_minor": 2
}
