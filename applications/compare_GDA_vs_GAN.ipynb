{
  "nbformat": 4,
  "nbformat_minor": 0,
  "metadata": {
    "colab": {
      "name": "compare GDA vs GAN",
      "provenance": [],
      "include_colab_link": true
    },
    "kernelspec": {
      "name": "python3",
      "display_name": "Python 3"
    },
    "accelerator": "GPU"
  },
  "cells": [
    {
      "cell_type": "markdown",
      "metadata": {
        "id": "view-in-github",
        "colab_type": "text"
      },
      "source": [
        "<a href=\"https://colab.research.google.com/github/IsraelAbebe/ml-algorithems-from-scratch/blob/master/applications/compare_GDA_vs_GAN.ipynb\" target=\"_parent\"><img src=\"https://colab.research.google.com/assets/colab-badge.svg\" alt=\"Open In Colab\"/></a>"
      ]
    },
    {
      "cell_type": "code",
      "metadata": {
        "id": "W7sOb8h6E-Se",
        "colab_type": "code",
        "outputId": "a3d8bc5c-b621-4148-8da6-73001fa358c9",
        "colab": {
          "base_uri": "https://localhost:8080/"
        }
      },
      "source": [
        "import matplotlib.pyplot as plt\n",
        "import numpy as np\n",
        "import pandas as pd\n",
        "import random as rd\n",
        "import seaborn as sn\n",
        "from sklearn.model_selection import train_test_split\n",
        "from sklearn import datasets,metrics\n",
        "\n",
        "from keras.datasets import mnist\n",
        "from matplotlib import pyplot"
      ],
      "execution_count": 0,
      "outputs": [
        {
          "output_type": "stream",
          "text": [
            "Using TensorFlow backend.\n"
          ],
          "name": "stderr"
        },
        {
          "output_type": "display_data",
          "data": {
            "text/html": [
              "<p style=\"color: red;\">\n",
              "The default version of TensorFlow in Colab will soon switch to TensorFlow 2.x.<br>\n",
              "We recommend you <a href=\"https://www.tensorflow.org/guide/migrate\" target=\"_blank\">upgrade</a> now \n",
              "or ensure your notebook will continue to use TensorFlow 1.x via the <code>%tensorflow_version 1.x</code> magic:\n",
              "<a href=\"https://colab.research.google.com/notebooks/tensorflow_version.ipynb\" target=\"_blank\">more info</a>.</p>\n"
            ],
            "text/plain": [
              "<IPython.core.display.HTML object>"
            ]
          },
          "metadata": {
            "tags": []
          }
        }
      ]
    },
    {
      "cell_type": "code",
      "metadata": {
        "id": "d4AqbQ_QFI5z",
        "colab_type": "code",
        "colab": {}
      },
      "source": [
        "class GDA():\n",
        "    def __init__(self,train_data,label_data):\n",
        "        self.train_data = train_data\n",
        "        self.label_data = label_data\n",
        "         \n",
        "    def get_phi(self,i):\n",
        "        return np.sum(self.label_data==i)/len(self.label_data)\n",
        "    \n",
        "    def get_mui(self,i=0):\n",
        "        return  np.sum((self.label_data==i)*self.train_data,axis=0)/np.sum(self.label_data==i)\n",
        "    \n",
        "    def get_sigma(self):\n",
        "        features = len(self.train_data[0])\n",
        "        sigma = np.zeros((features,features)) \n",
        "        for train,label in zip(self.train_data,self.label_data):\n",
        "            values = train-self.get_mui(i=float(label))   \n",
        "            values = values.reshape(-1,1)\n",
        "            values[np.isnan(values)] = 0\n",
        "            cov_value = values*values.T\n",
        "            sigma += cov_value\n",
        "                \n",
        "            sigma = sigma + cov_value\n",
        "        return sigma/len(self.train_data)\n",
        "    \n",
        "    def get_predictions(self,data):\n",
        "        cov = self.get_sigma()\n",
        "        det  = np.linalg.det(cov)\n",
        "        classes = np.unique(self.label_data)\n",
        "        \n",
        "        pred = []\n",
        "        for i in classes:\n",
        "            phi = self.get_phi(i)\n",
        "            \n",
        "            if det < 1e-5:\n",
        "                det = 1\n",
        "\n",
        "            sigma_inv = np.linalg.pinv(cov)\n",
        "            mui = self.get_mui(i=i)\n",
        "            value = (data-mui)\n",
        "            first = 1/(((2*np.pi)**(len(classes)/2))*np.sqrt(det))\n",
        "            \n",
        "            result = first*np.exp((-1/2)*np.dot(np.dot(value,sigma_inv),value.T))\n",
        "            pred.append(result)\n",
        "            \n",
        "        return pred, np.argmax(pred)\n",
        "    \n",
        "    def evaluate(self,data,label):\n",
        "        pred = []\n",
        "        for i in data:\n",
        "            _,p = self.get_predictions(i)\n",
        "            pred.append(p)\n",
        "            \n",
        "        return metrics.accuracy_score(pred,label)\n",
        "        "
      ],
      "execution_count": 0,
      "outputs": []
    },
    {
      "cell_type": "code",
      "metadata": {
        "colab_type": "code",
        "outputId": "b67754c3-4083-452a-8edd-8959bb04bae7",
        "id": "aPh-7bSanxQf",
        "colab": {
          "base_uri": "https://localhost:8080/",
          "height": 267
        }
      },
      "source": [
        "def generate_data(N=100):\n",
        "    mu1 = -1\n",
        "    mu2 = 3\n",
        "    sig1 = 0.5\n",
        "    sig2 = 1\n",
        "    np.random.seed(10)\n",
        "    x11=np.random.randn(N,1)*sig1 + mu1\n",
        "    x12=np.random.randn(N,1)*sig1 + mu1+3\n",
        "    x21=np.random.randn(N,1)*sig2 + mu2\n",
        "    x22=np.random.randn(N,1)*sig2 + mu2+3\n",
        "    c = np.vstack((-np.ones((N,1)), np.ones((N,1))))\n",
        "    x1 = np.hstack((x11,x12))\n",
        "    x2 = np.hstack((x21,x22))\n",
        "\n",
        "    X = np.hstack( (np.vstack( (x1,x2) ),c) )\n",
        "    np.random.shuffle(X)\n",
        "    dataset = pd.DataFrame(data=X, columns=['x','y','c'])\n",
        "    \n",
        "    X = np.array(dataset[['x','y']].values)\n",
        "    y =  np.array(dataset['c'].values)\n",
        "    y = np.where(y==-1, 0, y).reshape(-1,1)\n",
        "    plt.scatter(x=x1,y=x2)\n",
        "    plt.show()\n",
        "    return X,y\n",
        "\n",
        "\n",
        "X,y = generate_data(N=100)"
      ],
      "execution_count": 0,
      "outputs": [
        {
          "output_type": "display_data",
          "data": {
            "image/png": "[encoded data removed]",
            "text/plain": [
              "<Figure size 432x288 with 1 Axes>"
            ]
          },
          "metadata": {
            "tags": []
          }
        }
      ]
    },
    {
      "cell_type": "code",
      "metadata": {
        "id": "tR2TgR8AZMiO",
        "colab_type": "code",
        "colab": {}
      },
      "source": [
        "def generate(number,num):\n",
        "  gda = GDA(X,y)\n",
        "  mu, sigma = gda.get_mui(number),gda.get_sigma()\n",
        "\n",
        "  samples_array = []\n",
        "  for i in range(num):\n",
        "    samples = np.random.normal(mu.reshape(-1,1), np.abs(sigma), 2)\n",
        "    samples_array.append(samples)\n",
        "\n",
        "  samples_array = np.array(samples_array)\n",
        "\n",
        "  return samples_array"
      ],
      "execution_count": 0,
      "outputs": []
    },
    {
      "cell_type": "code",
      "metadata": {
        "id": "Iz5kmC4FZuCG",
        "colab_type": "code",
        "colab": {}
      },
      "source": [
        "class_one = generate(0,5000)\n",
        "class_two = generate(1,5000)"
      ],
      "execution_count": 0,
      "outputs": []
    },
    {
      "cell_type": "code",
      "metadata": {
        "id": "SEKOPNWNcpTn",
        "colab_type": "code",
        "outputId": "72bada36-9bc7-4f7b-c5a5-204fa0537859",
        "colab": {
          "base_uri": "https://localhost:8080/",
          "height": 265
        }
      },
      "source": [
        "plt.scatter(x=class_one[:,:1],y=class_one[:,1:])\n",
        "plt.scatter(x=class_two[:,:1],y=class_two[:,1:])\n",
        "plt.show()"
      ],
      "execution_count": 0,
      "outputs": [
        {
          "output_type": "display_data",
          "data": {
            "image/png": "[encoded data removed]",
            "text/plain": [
              "<Figure size 432x288 with 1 Axes>"
            ]
          },
          "metadata": {
            "tags": []
          }
        }
      ]
    },
    {
      "cell_type": "code",
      "metadata": {
        "id": "Gfr_p361ngjV",
        "colab_type": "code",
        "outputId": "c07d9308-580d-4783-df13-3d6dc839a335",
        "colab": {
          "base_uri": "https://localhost:8080/",
          "height": 34
        }
      },
      "source": [
        "np.mean(class_one),np.std(class_one),np.var(class_one)"
      ],
      "execution_count": 0,
      "outputs": [
        {
          "output_type": "execute_result",
          "data": {
            "text/plain": [
              "(-0.9571204171936457, 0.7586556333224173, 0.575558369971838)"
            ]
          },
          "metadata": {
            "tags": []
          },
          "execution_count": 86
        }
      ]
    },
    {
      "cell_type": "code",
      "metadata": {
        "id": "QLu7ianpz4O5",
        "colab_type": "code",
        "outputId": "0f6e624d-7723-4d91-f6b2-52a7e85da0dc",
        "colab": {
          "base_uri": "https://localhost:8080/",
          "height": 34
        }
      },
      "source": [
        "np.mean(class_two),np.std(class_two),np.var(class_two)"
      ],
      "execution_count": 0,
      "outputs": [
        {
          "output_type": "execute_result",
          "data": {
            "text/plain": [
              "(2.9706909849734076, 0.7653840662170309, 0.5858127688189163)"
            ]
          },
          "metadata": {
            "tags": []
          },
          "execution_count": 87
        }
      ]
    },
    {
      "cell_type": "code",
      "metadata": {
        "id": "OJJfCuLA0MRO",
        "colab_type": "code",
        "colab": {}
      },
      "source": [
        ""
      ],
      "execution_count": 0,
      "outputs": []
    }
  ]
}