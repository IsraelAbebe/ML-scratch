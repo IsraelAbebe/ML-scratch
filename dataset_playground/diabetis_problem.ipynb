{
 "cells": [
  {
   "cell_type": "code",
   "execution_count": 96,
   "metadata": {},
   "outputs": [],
   "source": [
    "from sklearn import datasets\n",
    "import numpy as np\n",
    "import pandas as pd\n",
    "from sklearn.metrics import mean_squared_error"
   ]
  },
  {
   "cell_type": "code",
   "execution_count": 97,
   "metadata": {},
   "outputs": [],
   "source": [
    "diabetes = datasets.load_diabetes()"
   ]
  },
  {
   "cell_type": "code",
   "execution_count": 98,
   "metadata": {},
   "outputs": [
    {
     "data": {
      "text/plain": [
       "dict_keys(['data', 'target', 'DESCR', 'feature_names', 'data_filename', 'target_filename'])"
      ]
     },
     "execution_count": 98,
     "metadata": {},
     "output_type": "execute_result"
    }
   ],
   "source": [
    "diabetes.keys()"
   ]
  },
  {
   "cell_type": "code",
   "execution_count": 99,
   "metadata": {},
   "outputs": [
    {
     "name": "stdout",
     "output_type": "stream",
     "text": [
      "['age', 'sex', 'bmi', 'bp', 's1', 's2', 's3', 's4', 's5', 's6']\n"
     ]
    }
   ],
   "source": [
    "print(diabetes['feature_names'])\n",
    "data = diabetes['data'][:,:4]\n"
   ]
  },
  {
   "cell_type": "code",
   "execution_count": 100,
   "metadata": {},
   "outputs": [],
   "source": [
    "dataset = pd.concat((pd.DataFrame(data),pd.DataFrame(diabetes['target'])),axis=1)\n",
    "dataset.columns= ['age', 'sex', 'bmi', 'bp','target']"
   ]
  },
  {
   "cell_type": "code",
   "execution_count": 101,
   "metadata": {},
   "outputs": [
    {
     "data": {
      "text/html": [
       "<div>\n",
       "<style scoped>\n",
       "    .dataframe tbody tr th:only-of-type {\n",
       "        vertical-align: middle;\n",
       "    }\n",
       "\n",
       "    .dataframe tbody tr th {\n",
       "        vertical-align: top;\n",
       "    }\n",
       "\n",
       "    .dataframe thead th {\n",
       "        text-align: right;\n",
       "    }\n",
       "</style>\n",
       "<table border=\"1\" class=\"dataframe\">\n",
       "  <thead>\n",
       "    <tr style=\"text-align: right;\">\n",
       "      <th></th>\n",
       "      <th>age</th>\n",
       "      <th>sex</th>\n",
       "      <th>bmi</th>\n",
       "      <th>bp</th>\n",
       "      <th>target</th>\n",
       "    </tr>\n",
       "  </thead>\n",
       "  <tbody>\n",
       "    <tr>\n",
       "      <th>0</th>\n",
       "      <td>0.038076</td>\n",
       "      <td>0.050680</td>\n",
       "      <td>0.061696</td>\n",
       "      <td>0.021872</td>\n",
       "      <td>151.0</td>\n",
       "    </tr>\n",
       "    <tr>\n",
       "      <th>1</th>\n",
       "      <td>-0.001882</td>\n",
       "      <td>-0.044642</td>\n",
       "      <td>-0.051474</td>\n",
       "      <td>-0.026328</td>\n",
       "      <td>75.0</td>\n",
       "    </tr>\n",
       "    <tr>\n",
       "      <th>2</th>\n",
       "      <td>0.085299</td>\n",
       "      <td>0.050680</td>\n",
       "      <td>0.044451</td>\n",
       "      <td>-0.005671</td>\n",
       "      <td>141.0</td>\n",
       "    </tr>\n",
       "    <tr>\n",
       "      <th>3</th>\n",
       "      <td>-0.089063</td>\n",
       "      <td>-0.044642</td>\n",
       "      <td>-0.011595</td>\n",
       "      <td>-0.036656</td>\n",
       "      <td>206.0</td>\n",
       "    </tr>\n",
       "    <tr>\n",
       "      <th>4</th>\n",
       "      <td>0.005383</td>\n",
       "      <td>-0.044642</td>\n",
       "      <td>-0.036385</td>\n",
       "      <td>0.021872</td>\n",
       "      <td>135.0</td>\n",
       "    </tr>\n",
       "  </tbody>\n",
       "</table>\n",
       "</div>"
      ],
      "text/plain": [
       "        age       sex       bmi        bp  target\n",
       "0  0.038076  0.050680  0.061696  0.021872   151.0\n",
       "1 -0.001882 -0.044642 -0.051474 -0.026328    75.0\n",
       "2  0.085299  0.050680  0.044451 -0.005671   141.0\n",
       "3 -0.089063 -0.044642 -0.011595 -0.036656   206.0\n",
       "4  0.005383 -0.044642 -0.036385  0.021872   135.0"
      ]
     },
     "execution_count": 101,
     "metadata": {},
     "output_type": "execute_result"
    }
   ],
   "source": [
    "\n",
    "dataset.head()"
   ]
  },
  {
   "cell_type": "code",
   "execution_count": 102,
   "metadata": {},
   "outputs": [
    {
     "data": {
      "text/plain": [
       "((353, 5), (88, 5))"
      ]
     },
     "execution_count": 102,
     "metadata": {},
     "output_type": "execute_result"
    }
   ],
   "source": [
    "train_size = 0.8\n",
    "test_size = 0.2\n",
    "\n",
    "\n",
    "final_data = dataset.values\n",
    "\n",
    "train_data = final_data[:int(len(final_data)*train_size)]\n",
    "test_data = final_data[:int(len(final_data)*test_size)]\n",
    "\n",
    "train_data.shape,test_data.shape"
   ]
  },
  {
   "cell_type": "code",
   "execution_count": 103,
   "metadata": {},
   "outputs": [
    {
     "data": {
      "text/plain": [
       "((353, 4), (353, 1), (88, 4), (88, 1))"
      ]
     },
     "execution_count": 103,
     "metadata": {},
     "output_type": "execute_result"
    }
   ],
   "source": [
    "X_train = train_data[:,:-1]\n",
    "y_train = train_data[:,-1:]\n",
    "\n",
    "\n",
    "X_test = test_data[:,:-1]\n",
    "y_test = test_data[:,-1:]\n",
    "\n",
    "\n",
    "X_train.shape,y_train.shape,X_test.shape,y_test.shape"
   ]
  },
  {
   "cell_type": "code",
   "execution_count": 138,
   "metadata": {},
   "outputs": [],
   "source": [
    "class linear_regression():\n",
    "    def __init__(self,train_data,train_labels,lr=0.01,batch_size=None,epoch=10):\n",
    "        dummy_once = np.ones((len(train_data),1))\n",
    "        self.train_data = np.hstack((dummy_once,train_data))\n",
    "        self.train_labels = train_labels\n",
    "        \n",
    "        self.params = np.zeros((len(self.train_data[0]),1))\n",
    "        \n",
    "        self.lr = lr\n",
    "        self.epoch = epoch\n",
    "        self.batch_size = batch_size\n",
    "        \n",
    "    def hypothesis(self,x):\n",
    "        return np.dot(x.T,self.params)\n",
    "    \n",
    "    def predict(self,x):\n",
    "        return np.dot(x,self.params[1:])+self.params[0]\n",
    "    \n",
    "    def cost(self,y,y_pred):\n",
    "        return 1/y.shape[0]*np.sum(y_pred-y)\n",
    "    \n",
    "    def gradient(self,y,y_pred,x):\n",
    "        val = (y_pred-y)\n",
    "        return np.dot(x.T,val)\n",
    "    \n",
    "    def train_st(self):\n",
    "        for i in range(self.epoch):\n",
    "            for train,label in zip(self.train_data,self.train_labels):\n",
    "                train = train.reshape(-1,1)\n",
    "                label = label.reshape(-1,1)\n",
    "                y_pred = self.hypothesis(train.T)\n",
    "                co = self.cost(label,y_pred)\n",
    "                grad = self.gradient(label,y_pred,train)\n",
    "\n",
    "\n",
    "                self.params -= self.lr*grad\n",
    "\n",
    "                print('Epoch : {}  , Loss : {} '.format(i,co))\n",
    "                \n",
    "    def train_ba(self):\n",
    "        for i in range(self.epoch):\n",
    "            y_pred = self.hypothesis(self.train_data.T)\n",
    "            co = self.cost(self.train_labels,y_pred)\n",
    "            grad = self.gradient(self.train_labels,y_pred,self.train_data)\n",
    "\n",
    "\n",
    "            self.params -= self.lr*grad\n",
    "\n",
    "            print('Epoch : {}  , Loss : {} '.format(i,co))\n",
    "                \n",
    "    def evaluate(self,x_test,y_test):\n",
    "        return mean_squared_error(self.predict(x_test),y_test)\n"
   ]
  },
  {
   "cell_type": "code",
   "execution_count": 139,
   "metadata": {},
   "outputs": [],
   "source": [
    "linear = linear_regression(X_train,y_train,epoch=100)"
   ]
  },
  {
   "cell_type": "code",
   "execution_count": 140,
   "metadata": {},
   "outputs": [
    {
     "name": "stdout",
     "output_type": "stream",
     "text": [
      "Epoch : 0  , Loss : -151.4787535410765 \n",
      "Epoch : 1  , Loss : 383.2410822911264 \n",
      "Epoch : 2  , Loss : -969.6024456831858 \n",
      "Epoch : 3  , Loss : 2453.097563850279 \n",
      "Epoch : 4  , Loss : -6206.348389902828 \n",
      "Epoch : 5  , Loss : 15702.087602561665 \n",
      "Epoch : 6  , Loss : -39726.350955551905 \n",
      "Epoch : 7  , Loss : 100507.84016438885 \n",
      "Epoch : 8  , Loss : -254285.2745762245 \n",
      "Epoch : 9  , Loss : 643342.8520360813 \n",
      "Epoch : 10  , Loss : -1627660.2205229278 \n",
      "Epoch : 11  , Loss : 4117987.450973828 \n",
      "Epoch : 12  , Loss : -10418526.199735101 \n",
      "Epoch : 13  , Loss : 26358916.69244347 \n",
      "Epoch : 14  , Loss : -66688174.115466654 \n",
      "Epoch : 15  , Loss : 168721371.16467908 \n",
      "Epoch : 16  , Loss : -426865804.4023051 \n",
      "Epoch : 17  , Loss : 1079972345.5873916 \n",
      "Epoch : 18  , Loss : -2732334741.285108 \n",
      "Epoch : 19  , Loss : 6912818804.049288 \n",
      "Epoch : 20  , Loss : -17489461703.053013 \n",
      "Epoch : 21  , Loss : 44248414334.73687 \n",
      "Epoch : 22  , Loss : -111948681119.03236 \n",
      "Epoch : 23  , Loss : 283230651147.92346 \n",
      "Epoch : 24  , Loss : -716574781835.8086 \n",
      "Epoch : 25  , Loss : 1812937321161.8252 \n",
      "Epoch : 26  , Loss : -4586739324039.623 \n",
      "Epoch : 27  , Loss : 11604470480650.2 \n",
      "Epoch : 28  , Loss : -29359360892931.92 \n",
      "Epoch : 29  , Loss : 74279311018862.1 \n",
      "Epoch : 30  , Loss : -187926980616432.0 \n",
      "Epoch : 31  , Loss : 475456080019922.3 \n",
      "Epoch : 32  , Loss : -1202905954676657.2 \n",
      "Epoch : 33  , Loss : 3043357308073397.0 \n",
      "Epoch : 34  , Loss : -7699707253584424.0 \n",
      "Epoch : 35  , Loss : 1.9480292909947984e+16 \n",
      "Epoch : 36  , Loss : -4.9285225965014536e+16 \n",
      "Epoch : 37  , Loss : 1.2469183649605752e+17 \n",
      "Epoch : 38  , Loss : -3.154708897915256e+17 \n",
      "Epoch : 39  , Loss : 7.981427261198738e+17 \n",
      "Epoch : 40  , Loss : -2.0193045757059768e+18 \n",
      "Epoch : 41  , Loss : 5.108849377466708e+18 \n",
      "Epoch : 42  , Loss : -1.2925411191383511e+19 \n",
      "Epoch : 43  , Loss : 3.270134664827096e+19 \n",
      "Epoch : 44  , Loss : -8.273454954556986e+19 \n",
      "Epoch : 45  , Loss : 2.093187709402871e+20 \n",
      "Epoch : 46  , Loss : -5.295774027731861e+20 \n",
      "Epoch : 47  , Loss : 1.3398331371246138e+21 \n",
      "Epoch : 48  , Loss : -3.389783676449721e+21 \n",
      "Epoch : 49  , Loss : 8.576167475440095e+21 \n",
      "Epoch : 50  , Loss : -2.1697741091204248e+22 \n",
      "Epoch : 51  , Loss : 5.489537952811191e+22 \n",
      "Epoch : 52  , Loss : -1.3888554946196917e+23 \n",
      "Epoch : 53  , Loss : 3.513810454571153e+23 \n",
      "Epoch : 54  , Loss : -8.889955764645231e+23 \n",
      "Epoch : 55  , Loss : 2.2491626830507122e+24 \n",
      "Epoch : 56  , Loss : -5.690391390861723e+24 \n",
      "Epoch : 57  , Loss : 1.4396715019863742e+25 \n",
      "Epoch : 58  , Loss : -3.6423751746851826e+25 \n",
      "Epoch : 59  , Loss : 9.215225066869787e+25 \n",
      "Epoch : 60  , Loss : -2.3314559582787934e+26 \n",
      "Epoch : 61  , Loss : 5.898593735855519e+26 \n",
      "Epoch : 62  , Loss : -1.492346786012647e+27 \n",
      "Epoch : 63  , Loss : 3.7756438728514414e+27 \n",
      "Epoch : 64  , Loss : -9.552395454068292e+27 \n",
      "Epoch : 65  , Loss : 2.416760213192248e+28 \n",
      "Epoch : 66  , Loss : -6.114413872576347e+28 \n",
      "Epoch : 67  , Loss : 1.5469493746659965e+29 \n",
      "Epoch : 68  , Loss : -3.913788660124163e+29 \n",
      "Epoch : 69  , Loss : 9.901902367958071e+29 \n",
      "Epoch : 70  , Loss : -2.5051856147353442e+30 \n",
      "Epoch : 71  , Loss : 6.338130523873367e+30 \n",
      "Epoch : 72  , Loss : -1.6035497849487353e+31 \n",
      "Epoch : 73  , Loss : 4.056987944826538e+31 \n",
      "Epoch : 74  , Loss : -1.0264197182374386e+32 \n",
      "Epoch : 75  , Loss : 2.5968463606851278e+32 \n",
      "Epoch : 76  , Loss : -6.570032610620217e+32 \n",
      "Epoch : 77  , Loss : 1.6622211139678205e+33 \n",
      "Epoch : 78  , Loss : -4.2054266629577567e+33 \n",
      "Epoch : 79  , Loss : 1.0639747786201195e+34 \n",
      "Epoch : 80  , Loss : -2.691860827133165e+34 \n",
      "Epoch : 81  , Loss : 6.810419624844502e+34 \n",
      "Epoch : 82  , Loss : -1.723039133336763e+35 \n",
      "Epoch : 83  , Loss : 4.359296517030242e+35 \n",
      "Epoch : 84  , Loss : -1.1029039187630464e+36 \n",
      "Epoch : 85  , Loss : 2.790351721363409e+36 \n",
      "Epoch : 86  , Loss : -7.059602016509418e+36 \n",
      "Epoch : 87  , Loss : 1.7860823870315612e+37 \n",
      "Epoch : 88  , Loss : -4.518796223645595e+37 \n",
      "Epoch : 89  , Loss : 1.143257414053032e+38 \n",
      "Epoch : 90  , Loss : -2.8924462403236168e+38 \n",
      "Epoch : 91  , Loss : 7.31790159444716e+38 \n",
      "Epoch : 92  , Loss : -1.8514322928270156e+39 \n",
      "Epoch : 93  , Loss : 4.6841317701289153e+39 \n",
      "Epoch : 94  , Loss : -1.185087379373104e+40 \n",
      "Epoch : 95  , Loss : 2.9982762348949865e+40 \n",
      "Epoch : 96  , Loss : -7.585651941961839e+40 \n",
      "Epoch : 97  , Loss : 1.919173247444454e+41 \n",
      "Epoch : 98  , Loss : -4.8555166805529916e+41 \n",
      "Epoch : 99  , Loss : 1.22844783640674e+42 \n"
     ]
    }
   ],
   "source": [
    "linear.train_ba()"
   ]
  },
  {
   "cell_type": "code",
   "execution_count": 141,
   "metadata": {},
   "outputs": [
    {
     "data": {
      "text/plain": [
       "9.659529634282315e+84"
      ]
     },
     "execution_count": 141,
     "metadata": {},
     "output_type": "execute_result"
    }
   ],
   "source": [
    "linear.evaluate(X_train,y_train)"
   ]
  },
  {
   "cell_type": "code",
   "execution_count": 142,
   "metadata": {},
   "outputs": [
    {
     "data": {
      "text/plain": [
       "9.659426041757672e+84"
      ]
     },
     "execution_count": 142,
     "metadata": {},
     "output_type": "execute_result"
    }
   ],
   "source": [
    "linear.evaluate(X_test,y_test)"
   ]
  },
  {
   "cell_type": "code",
   "execution_count": null,
   "metadata": {},
   "outputs": [],
   "source": []
  }
 ],
 "metadata": {
  "kernelspec": {
   "display_name": "Python 3",
   "language": "python",
   "name": "python3"
  },
  "language_info": {
   "codemirror_mode": {
    "name": "ipython",
    "version": 3
   },
   "file_extension": ".py",
   "mimetype": "text/x-python",
   "name": "python",
   "nbconvert_exporter": "python",
   "pygments_lexer": "ipython3",
   "version": "3.7.3"
  }
 },
 "nbformat": 4,
 "nbformat_minor": 2
}
