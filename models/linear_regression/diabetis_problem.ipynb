{
 "cells": [
  {
   "cell_type": "code",
   "execution_count": 128,
   "metadata": {},
   "outputs": [],
   "source": [
    "from sklearn import datasets\n",
    "import numpy as np\n",
    "import pandas as pd"
   ]
  },
  {
   "cell_type": "code",
   "execution_count": 129,
   "metadata": {},
   "outputs": [],
   "source": [
    "diabetes = datasets.load_diabetes()"
   ]
  },
  {
   "cell_type": "code",
   "execution_count": 130,
   "metadata": {},
   "outputs": [
    {
     "data": {
      "text/plain": [
       "dict_keys(['data', 'target', 'DESCR', 'feature_names', 'data_filename', 'target_filename'])"
      ]
     },
     "execution_count": 130,
     "metadata": {},
     "output_type": "execute_result"
    }
   ],
   "source": [
    "diabetes.keys()"
   ]
  },
  {
   "cell_type": "code",
   "execution_count": 131,
   "metadata": {},
   "outputs": [
    {
     "name": "stdout",
     "output_type": "stream",
     "text": [
      "['age', 'sex', 'bmi', 'bp', 's1', 's2', 's3', 's4', 's5', 's6']\n"
     ]
    }
   ],
   "source": [
    "print(diabetes['feature_names'])\n",
    "data = diabetes['data'][:,:4]\n"
   ]
  },
  {
   "cell_type": "code",
   "execution_count": 132,
   "metadata": {},
   "outputs": [],
   "source": [
    "dataset = pd.concat((pd.DataFrame(data),pd.DataFrame(diabetes['target'])),axis=1)\n",
    "dataset.columns= ['age', 'sex', 'bmi', 'bp','target']"
   ]
  },
  {
   "cell_type": "code",
   "execution_count": 133,
   "metadata": {},
   "outputs": [
    {
     "data": {
      "text/html": [
       "<div>\n",
       "<style scoped>\n",
       "    .dataframe tbody tr th:only-of-type {\n",
       "        vertical-align: middle;\n",
       "    }\n",
       "\n",
       "    .dataframe tbody tr th {\n",
       "        vertical-align: top;\n",
       "    }\n",
       "\n",
       "    .dataframe thead th {\n",
       "        text-align: right;\n",
       "    }\n",
       "</style>\n",
       "<table border=\"1\" class=\"dataframe\">\n",
       "  <thead>\n",
       "    <tr style=\"text-align: right;\">\n",
       "      <th></th>\n",
       "      <th>age</th>\n",
       "      <th>sex</th>\n",
       "      <th>bmi</th>\n",
       "      <th>bp</th>\n",
       "      <th>target</th>\n",
       "    </tr>\n",
       "  </thead>\n",
       "  <tbody>\n",
       "    <tr>\n",
       "      <th>0</th>\n",
       "      <td>0.038076</td>\n",
       "      <td>0.050680</td>\n",
       "      <td>0.061696</td>\n",
       "      <td>0.021872</td>\n",
       "      <td>151.0</td>\n",
       "    </tr>\n",
       "    <tr>\n",
       "      <th>1</th>\n",
       "      <td>-0.001882</td>\n",
       "      <td>-0.044642</td>\n",
       "      <td>-0.051474</td>\n",
       "      <td>-0.026328</td>\n",
       "      <td>75.0</td>\n",
       "    </tr>\n",
       "    <tr>\n",
       "      <th>2</th>\n",
       "      <td>0.085299</td>\n",
       "      <td>0.050680</td>\n",
       "      <td>0.044451</td>\n",
       "      <td>-0.005671</td>\n",
       "      <td>141.0</td>\n",
       "    </tr>\n",
       "    <tr>\n",
       "      <th>3</th>\n",
       "      <td>-0.089063</td>\n",
       "      <td>-0.044642</td>\n",
       "      <td>-0.011595</td>\n",
       "      <td>-0.036656</td>\n",
       "      <td>206.0</td>\n",
       "    </tr>\n",
       "    <tr>\n",
       "      <th>4</th>\n",
       "      <td>0.005383</td>\n",
       "      <td>-0.044642</td>\n",
       "      <td>-0.036385</td>\n",
       "      <td>0.021872</td>\n",
       "      <td>135.0</td>\n",
       "    </tr>\n",
       "  </tbody>\n",
       "</table>\n",
       "</div>"
      ],
      "text/plain": [
       "        age       sex       bmi        bp  target\n",
       "0  0.038076  0.050680  0.061696  0.021872   151.0\n",
       "1 -0.001882 -0.044642 -0.051474 -0.026328    75.0\n",
       "2  0.085299  0.050680  0.044451 -0.005671   141.0\n",
       "3 -0.089063 -0.044642 -0.011595 -0.036656   206.0\n",
       "4  0.005383 -0.044642 -0.036385  0.021872   135.0"
      ]
     },
     "execution_count": 133,
     "metadata": {},
     "output_type": "execute_result"
    }
   ],
   "source": [
    "\n",
    "dataset.head()"
   ]
  },
  {
   "cell_type": "code",
   "execution_count": 134,
   "metadata": {},
   "outputs": [
    {
     "data": {
      "text/plain": [
       "((353, 5), (88, 5))"
      ]
     },
     "execution_count": 134,
     "metadata": {},
     "output_type": "execute_result"
    }
   ],
   "source": [
    "train_size = 0.8\n",
    "test_size = 0.2\n",
    "\n",
    "\n",
    "final_data = dataset.values\n",
    "\n",
    "train_data = final_data[:int(len(final_data)*train_size)]\n",
    "test_data = final_data[:int(len(final_data)*test_size)]\n",
    "\n",
    "train_data.shape,test_data.shape"
   ]
  },
  {
   "cell_type": "code",
   "execution_count": 141,
   "metadata": {},
   "outputs": [
    {
     "data": {
      "text/plain": [
       "((353, 4), (353, 1), (88, 4), (88, 1))"
      ]
     },
     "execution_count": 141,
     "metadata": {},
     "output_type": "execute_result"
    }
   ],
   "source": [
    "X_train = train_data[:,:-1]\n",
    "y_train = train_data[:,-1:]\n",
    "\n",
    "\n",
    "X_test = test_data[:,:-1]\n",
    "y_test = test_data[:,-1:]\n",
    "\n",
    "\n",
    "X_train.shape,y_train.shape,X_test.shape,y_test.shape"
   ]
  },
  {
   "cell_type": "code",
   "execution_count": 147,
   "metadata": {},
   "outputs": [],
   "source": [
    "def hypothesis(x,w,b):\n",
    "    return np.dot(x,w)+b"
   ]
  },
  {
   "cell_type": "code",
   "execution_count": 148,
   "metadata": {},
   "outputs": [],
   "source": [
    "def cost(y,y_pred):\n",
    "    return 1/y.shape[0]*np.sum(y_pred-y)"
   ]
  },
  {
   "cell_type": "code",
   "execution_count": 149,
   "metadata": {},
   "outputs": [],
   "source": [
    "def gradient(y,y_pred,x):\n",
    "    val = (y_pred-y)\n",
    "    return np.dot(x.T,val)"
   ]
  },
  {
   "cell_type": "code",
   "execution_count": 161,
   "metadata": {},
   "outputs": [],
   "source": [
    "weight = np.zeros((X_train.shape[1],1))\n",
    "bias = 0\n",
    "lr = 0.001\n",
    "epoch = 100"
   ]
  },
  {
   "cell_type": "code",
   "execution_count": 165,
   "metadata": {},
   "outputs": [
    {
     "name": "stdout",
     "output_type": "stream",
     "text": [
      "-317.20679011557456\n",
      "-315.41581187374453\n",
      "-313.6276247303305\n",
      "-311.84222428848784\n",
      "-310.05960615830605\n",
      "-308.27976595679746\n",
      "-306.5026993078865\n",
      "-304.72840184239885\n",
      "-302.9568691980504\n",
      "-301.18809701943655\n",
      "-299.4220809580213\n",
      "-297.6588166721264\n",
      "-295.89829982692055\n",
      "-294.14052609440864\n",
      "-292.38549115342107\n",
      "-290.6331906896027\n",
      "-288.8836203954025\n",
      "-287.13677597006233\n",
      "-285.39265311960685\n",
      "-283.6512475568324\n",
      "-281.91255500129625\n",
      "-280.17657117930645\n",
      "-278.4432918239105\n",
      "-276.7127126748855\n",
      "-274.9848294787267\n",
      "-273.25963798863773\n",
      "-271.5371339645195\n",
      "-269.81731317295976\n",
      "-268.10017138722264\n",
      "-266.3857043872381\n",
      "-264.6739079595913\n",
      "-262.96477789751236\n",
      "-261.25831000086566\n",
      "-259.55450007613945\n",
      "-257.85334393643546\n",
      "-256.1548374014585\n",
      "-254.45897629750593\n",
      "-252.7657564574573\n",
      "-251.0751737207641\n",
      "-249.38722393343934\n",
      "-247.70190294804695\n",
      "-246.019206623692\n",
      "-244.33913082600992\n",
      "-242.6616714271564\n",
      "-240.98682430579694\n",
      "-239.31458534709694\n",
      "-237.64495044271118\n",
      "-235.9779154907736\n",
      "-234.31347639588714\n",
      "-232.65162906911365\n",
      "-230.99236942796355\n",
      "-229.3356933963857\n",
      "-227.68159690475727\n",
      "-226.03007588987361\n",
      "-224.3811262949383\n",
      "-222.7347440695527\n",
      "-221.0909251697061\n",
      "-219.44966555776568\n",
      "-217.81096120246625\n",
      "-216.17480807890053\n",
      "-214.54120216850873\n",
      "-212.91013945906906\n",
      "-211.28161594468713\n",
      "-209.65562762578645\n",
      "-208.03217050909845\n",
      "-206.41124060765205\n",
      "-204.79283394076433\n",
      "-203.17694653403044\n",
      "-201.5635744193134\n",
      "-199.95271363473464\n",
      "-198.34436022466394\n",
      "-196.73851023970954\n",
      "-195.1351597367084\n",
      "-193.53430477871632\n",
      "-191.93594143499823\n",
      "-190.34006578101818\n",
      "-188.74667389843\n",
      "-187.15576187506701\n",
      "-185.5673258049327\n",
      "-183.98136178819078\n",
      "-182.39786593115556\n",
      "-180.81683434628226\n",
      "-179.23826315215726\n",
      "-177.66214847348843\n",
      "-176.08848644109574\n",
      "-174.51727319190115\n",
      "-172.94850486891946\n",
      "-171.38217762124842\n",
      "-169.81828760405926\n",
      "-168.25683097858706\n",
      "-166.69780391212126\n",
      "-165.141202577996\n",
      "-163.5870231555808\n",
      "-162.0352618302708\n",
      "-160.4859147934774\n",
      "-158.9389782426188\n",
      "-157.3944483811105\n",
      "-155.85232141835567\n",
      "-154.31259356973615\n",
      "-152.77526105660255\n"
     ]
    }
   ],
   "source": [
    "for i in range(epoch):\n",
    "    y_pred = hypothesis(X_train,weight,bias)\n",
    "    co = cost(y_train,y_pred)\n",
    "    grad = gradient(y_train,y_pred,X_train)\n",
    "    \n",
    "    \n",
    "    weight -= lr*grad\n",
    "    bias -= lr*np.sum(grad)\n",
    "    \n",
    "    print(co)"
   ]
  },
  {
   "cell_type": "code",
   "execution_count": 166,
   "metadata": {},
   "outputs": [],
   "source": [
    "from sklearn.metrics import mean_squared_error"
   ]
  },
  {
   "cell_type": "code",
   "execution_count": 167,
   "metadata": {},
   "outputs": [
    {
     "data": {
      "text/plain": [
       "23178.204567549114"
      ]
     },
     "execution_count": 167,
     "metadata": {},
     "output_type": "execute_result"
    }
   ],
   "source": [
    "mean_squared_error(hypothesis(X_test,weight,bias),y_test)"
   ]
  },
  {
   "cell_type": "code",
   "execution_count": null,
   "metadata": {},
   "outputs": [],
   "source": []
  }
 ],
 "metadata": {
  "kernelspec": {
   "display_name": "Python 3",
   "language": "python",
   "name": "python3"
  },
  "language_info": {
   "codemirror_mode": {
    "name": "ipython",
    "version": 3
   },
   "file_extension": ".py",
   "mimetype": "text/x-python",
   "name": "python",
   "nbconvert_exporter": "python",
   "pygments_lexer": "ipython3",
   "version": "3.7.3"
  }
 },
 "nbformat": 4,
 "nbformat_minor": 2
}
