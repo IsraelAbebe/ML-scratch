{
 "cells": [
  {
   "cell_type": "code",
   "execution_count": 130,
   "metadata": {},
   "outputs": [],
   "source": [
    "from sklearn.metrics import  accuracy_score\n",
    "from sklearn.datasets import load_iris\n",
    "import numpy as np\n",
    "import pandas as pd"
   ]
  },
  {
   "cell_type": "code",
   "execution_count": 131,
   "metadata": {},
   "outputs": [],
   "source": [
    "train_size = 0.6\n",
    "test_size = 0.4"
   ]
  },
  {
   "cell_type": "code",
   "execution_count": 132,
   "metadata": {},
   "outputs": [],
   "source": [
    "data = load_iris()"
   ]
  },
  {
   "cell_type": "code",
   "execution_count": 133,
   "metadata": {},
   "outputs": [],
   "source": [
    "dataset = data['data']\n",
    "target = data['target'].reshape(-1,1)"
   ]
  },
  {
   "cell_type": "code",
   "execution_count": 134,
   "metadata": {},
   "outputs": [],
   "source": [
    "final_data = np.hstack((dataset,target))\n",
    "np.random.shuffle(final_data)"
   ]
  },
  {
   "cell_type": "code",
   "execution_count": 135,
   "metadata": {},
   "outputs": [
    {
     "data": {
      "text/html": [
       "<div>\n",
       "<style scoped>\n",
       "    .dataframe tbody tr th:only-of-type {\n",
       "        vertical-align: middle;\n",
       "    }\n",
       "\n",
       "    .dataframe tbody tr th {\n",
       "        vertical-align: top;\n",
       "    }\n",
       "\n",
       "    .dataframe thead th {\n",
       "        text-align: right;\n",
       "    }\n",
       "</style>\n",
       "<table border=\"1\" class=\"dataframe\">\n",
       "  <thead>\n",
       "    <tr style=\"text-align: right;\">\n",
       "      <th></th>\n",
       "      <th>sepal length (cm)</th>\n",
       "      <th>sepal width (cm)</th>\n",
       "      <th>petal length (cm)</th>\n",
       "      <th>petal width (cm)</th>\n",
       "      <th>target</th>\n",
       "    </tr>\n",
       "  </thead>\n",
       "  <tbody>\n",
       "    <tr>\n",
       "      <th>144</th>\n",
       "      <td>5.7</td>\n",
       "      <td>3.8</td>\n",
       "      <td>1.7</td>\n",
       "      <td>0.3</td>\n",
       "      <td>0.0</td>\n",
       "    </tr>\n",
       "    <tr>\n",
       "      <th>149</th>\n",
       "      <td>4.8</td>\n",
       "      <td>3.0</td>\n",
       "      <td>1.4</td>\n",
       "      <td>0.3</td>\n",
       "      <td>0.0</td>\n",
       "    </tr>\n",
       "  </tbody>\n",
       "</table>\n",
       "</div>"
      ],
      "text/plain": [
       "     sepal length (cm)  sepal width (cm)  petal length (cm)  petal width (cm)  \\\n",
       "144                5.7               3.8                1.7               0.3   \n",
       "149                4.8               3.0                1.4               0.3   \n",
       "\n",
       "     target  \n",
       "144     0.0  \n",
       "149     0.0  "
      ]
     },
     "execution_count": 135,
     "metadata": {},
     "output_type": "execute_result"
    }
   ],
   "source": [
    "pd_data = pd.DataFrame(final_data)\n",
    "pd_data.columns= ['sepal length (cm)','sepal width (cm)','petal length (cm)','petal width (cm)','target']\n",
    "pd_data = pd_data[(pd_data['target']==0) | (pd_data['target']==1)]\n",
    "pd_data.tail(2)"
   ]
  },
  {
   "cell_type": "code",
   "execution_count": 136,
   "metadata": {},
   "outputs": [
    {
     "data": {
      "text/plain": [
       "((60, 5), (40, 5))"
      ]
     },
     "execution_count": 136,
     "metadata": {},
     "output_type": "execute_result"
    }
   ],
   "source": [
    "final_data = pd_data.values\n",
    "\n",
    "train_data = final_data[:int(len(final_data)*train_size)]\n",
    "test_data = final_data[:int(len(final_data)*test_size)]\n",
    "\n",
    "train_data.shape,test_data.shape"
   ]
  },
  {
   "cell_type": "code",
   "execution_count": null,
   "metadata": {},
   "outputs": [],
   "source": []
  },
  {
   "cell_type": "code",
   "execution_count": 137,
   "metadata": {},
   "outputs": [
    {
     "data": {
      "text/plain": [
       "((60, 4), (60, 1), (40, 4), (40, 1))"
      ]
     },
     "execution_count": 137,
     "metadata": {},
     "output_type": "execute_result"
    }
   ],
   "source": [
    "X_train = train_data[:,:-1]\n",
    "y_train = train_data[:,-1:]\n",
    "\n",
    "\n",
    "X_test = test_data[:,:-1]\n",
    "y_test = test_data[:,-1:]\n",
    "\n",
    "\n",
    "X_train.shape,y_train.shape,X_test.shape,y_test.shape"
   ]
  },
  {
   "cell_type": "code",
   "execution_count": 138,
   "metadata": {},
   "outputs": [],
   "source": [
    "def gradient(y,y_pred,x):\n",
    "    return np.dot(x.T,(y-y_pred))"
   ]
  },
  {
   "cell_type": "code",
   "execution_count": 139,
   "metadata": {},
   "outputs": [],
   "source": [
    "def new_grad(x):\n",
    "    return sigmoid(x)(1-sigmoid(x))"
   ]
  },
  {
   "cell_type": "code",
   "execution_count": 140,
   "metadata": {},
   "outputs": [],
   "source": [
    "def sigmoid(x):\n",
    "    return 1/(1+np.exp(-x))"
   ]
  },
  {
   "cell_type": "code",
   "execution_count": 141,
   "metadata": {},
   "outputs": [],
   "source": [
    "def cost(y,y_pred):\n",
    "    cost = -np.mean((y*np.log(y_pred))+((1-y)*(np.log(1-y_pred))))\n",
    "    return cost"
   ]
  },
  {
   "cell_type": "code",
   "execution_count": 171,
   "metadata": {
    "scrolled": true
   },
   "outputs": [
    {
     "name": "stdout",
     "output_type": "stream",
     "text": [
      "Epoch :  0  Loss: 0.6931471805599454\n",
      "Epoch :  10  Loss: 0.4841287811935128\n",
      "Epoch :  20  Loss: 0.36257954067589704\n",
      "Epoch :  30  Loss: 0.28620763214258393\n",
      "Epoch :  40  Loss: 0.23503765414403915\n",
      "Epoch :  50  Loss: 0.19883339484669688\n",
      "Epoch :  60  Loss: 0.17206293330535785\n",
      "Epoch :  70  Loss: 0.1515531314737786\n",
      "Epoch :  80  Loss: 0.13538120896864156\n",
      "Epoch :  90  Loss: 0.122325052643349\n",
      "Epoch :  100  Loss: 0.11157546125197305\n",
      "Epoch :  110  Loss: 0.10257756791883182\n",
      "Epoch :  120  Loss: 0.09493930787887361\n",
      "Epoch :  130  Loss: 0.08837637397640545\n",
      "Epoch :  140  Loss: 0.08267789722195763\n",
      "Epoch :  150  Loss: 0.07768435687609061\n",
      "Epoch :  160  Loss: 0.07327295613060186\n",
      "Epoch :  170  Loss: 0.06934769514048184\n",
      "Epoch :  180  Loss: 0.06583248058290432\n",
      "Epoch :  190  Loss: 0.06266624628549251\n",
      "Epoch :  200  Loss: 0.05979943515893999\n",
      "Epoch :  210  Loss: 0.057191420967979203\n",
      "Epoch :  220  Loss: 0.054808590689287215\n",
      "Epoch :  230  Loss: 0.05262289881794621\n",
      "Epoch :  240  Loss: 0.050610763921854214\n",
      "Epoch :  250  Loss: 0.048752216809837594\n",
      "Epoch :  260  Loss: 0.047030236027557966\n",
      "Epoch :  270  Loss: 0.045430224452661795\n",
      "Epoch :  280  Loss: 0.04393959332031414\n",
      "Epoch :  290  Loss: 0.04254742886665679\n",
      "Epoch :  300  Loss: 0.04124422310281665\n",
      "Epoch :  310  Loss: 0.04002165480324753\n",
      "Epoch :  320  Loss: 0.038872410132557496\n",
      "Epoch :  330  Loss: 0.037790034801348606\n",
      "Epoch :  340  Loss: 0.03676881148041865\n",
      "Epoch :  350  Loss: 0.035803657586172634\n",
      "Epoch :  360  Loss: 0.03489003959997603\n",
      "Epoch :  370  Loss: 0.034023900887365385\n",
      "Epoch :  380  Loss: 0.03320160060218682\n",
      "Epoch :  390  Loss: 0.03241986174148283\n",
      "Epoch :  400  Loss: 0.031675726792786546\n",
      "Epoch :  410  Loss: 0.03096651971121324\n",
      "Epoch :  420  Loss: 0.03028981319787256\n",
      "Epoch :  430  Loss: 0.029643400437575913\n",
      "Epoch :  440  Loss: 0.0290252706031209\n",
      "Epoch :  450  Loss: 0.0284335875536351\n",
      "Epoch :  460  Loss: 0.027866671251717233\n",
      "Epoch :  470  Loss: 0.02732298150318706\n",
      "Epoch :  480  Loss: 0.026801103687842272\n",
      "Epoch :  490  Loss: 0.026299736202609007\n",
      "Epoch :  500  Loss: 0.025817679382128447\n",
      "Epoch :  510  Loss: 0.025353825697936594\n",
      "Epoch :  520  Loss: 0.024907151067384958\n",
      "Epoch :  530  Loss: 0.02447670712845105\n",
      "Epoch :  540  Loss: 0.02406161435749924\n",
      "Epoch :  550  Loss: 0.02366105592461148\n",
      "Epoch :  560  Loss: 0.0232742721958916\n",
      "Epoch :  570  Loss: 0.022900555804642668\n",
      "Epoch :  580  Loss: 0.022539247223905174\n",
      "Epoch :  590  Loss: 0.022189730781845877\n",
      "Epoch :  600  Loss: 0.021851431069160997\n",
      "Epoch :  610  Loss: 0.021523809694218698\n",
      "Epoch :  620  Loss: 0.021206362347287604\n",
      "Epoch :  630  Loss: 0.020898616140032744\n",
      "Epoch :  640  Loss: 0.02060012719062261\n",
      "Epoch :  650  Loss: 0.020310478428387322\n",
      "Epoch :  660  Loss: 0.020029277595080667\n",
      "Epoch :  670  Loss: 0.01975615542249944\n",
      "Epoch :  680  Loss: 0.01949076396856201\n",
      "Epoch :  690  Loss: 0.01923277509599417\n",
      "Epoch :  700  Loss: 0.018981879079557545\n",
      "Epoch :  710  Loss: 0.018737783329319153\n",
      "Epoch :  720  Loss: 0.018500211218831306\n",
      "Epoch :  730  Loss: 0.018268901008295046\n",
      "Epoch :  740  Loss: 0.018043604853839594\n",
      "Epoch :  750  Loss: 0.01782408789498415\n",
      "Epoch :  760  Loss: 0.017610127413173044\n",
      "Epoch :  770  Loss: 0.017401512055004918\n",
      "Epoch :  780  Loss: 0.017198041114422226\n",
      "Epoch :  790  Loss: 0.01699952386870194\n",
      "Epoch :  800  Loss: 0.016805778963597355\n",
      "Epoch :  810  Loss: 0.01661663384343496\n",
      "Epoch :  820  Loss: 0.01643192422237517\n",
      "Epoch :  830  Loss: 0.0162514935934063\n",
      "Epoch :  840  Loss: 0.01607519277196517\n",
      "Epoch :  850  Loss: 0.01590287947136548\n",
      "Epoch :  860  Loss: 0.015734417907475883\n",
      "Epoch :  870  Loss: 0.015569678430320843\n",
      "Epoch :  880  Loss: 0.015408537180487772\n",
      "Epoch :  890  Loss: 0.015250875768411089\n",
      "Epoch :  900  Loss: 0.015096580974774778\n",
      "Epoch :  910  Loss: 0.014945544470426198\n",
      "Epoch :  920  Loss: 0.0147976625543342\n",
      "Epoch :  930  Loss: 0.014652835908247546\n",
      "Epoch :  940  Loss: 0.0145109693668244\n",
      "Epoch :  950  Loss: 0.014371971702104878\n",
      "Epoch :  960  Loss: 0.014235755421292602\n",
      "Epoch :  970  Loss: 0.014102236576894973\n",
      "Epoch :  980  Loss: 0.013971334588349184\n",
      "Epoch :  990  Loss: 0.013842972074330008\n"
     ]
    }
   ],
   "source": [
    "dummy_train = np.hstack((np.ones((len(train_data),1)),X_train))\n",
    "weight = np.zeros((len(dummy_train[0]),1))\n",
    "lr = 0.001\n",
    "epoch = 1000\n",
    "\n",
    "\n",
    "for i in range(epoch):\n",
    "    y_pred = sigmoid(np.dot(dummy_train,weight))\n",
    "    co = cost(y_train,y_pred)\n",
    "    gra = gradient(y_train,y_pred,dummy_train)\n",
    "    weight += lr*gra\n",
    "    \n",
    "    \n",
    "    if i%10 == 0:\n",
    "        print('Epoch : ',i,' Loss:',co)"
   ]
  },
  {
   "cell_type": "code",
   "execution_count": 172,
   "metadata": {},
   "outputs": [
    {
     "data": {
      "text/plain": [
       "array([[-0.27988151],\n",
       "       [-0.46309775],\n",
       "       [-1.84544876],\n",
       "       [ 2.76387978],\n",
       "       [ 1.17888333]])"
      ]
     },
     "execution_count": 172,
     "metadata": {},
     "output_type": "execute_result"
    }
   ],
   "source": [
    "weight"
   ]
  },
  {
   "cell_type": "code",
   "execution_count": null,
   "metadata": {},
   "outputs": [],
   "source": []
  },
  {
   "cell_type": "code",
   "execution_count": 173,
   "metadata": {},
   "outputs": [],
   "source": [
    "def predict(x,w):\n",
    "    sig = sigmoid(np.dot(x,w[1:])+w[0])\n",
    "    sig[sig > 0.5] = 1\n",
    "    sig[sig < 0.5] = 0\n",
    "    return sig"
   ]
  },
  {
   "cell_type": "code",
   "execution_count": null,
   "metadata": {},
   "outputs": [],
   "source": []
  },
  {
   "cell_type": "code",
   "execution_count": 175,
   "metadata": {},
   "outputs": [
    {
     "data": {
      "text/plain": [
       "1.0"
      ]
     },
     "execution_count": 175,
     "metadata": {},
     "output_type": "execute_result"
    }
   ],
   "source": [
    "accuracy_score(predict(X_test,weight),y_test)"
   ]
  },
  {
   "cell_type": "code",
   "execution_count": null,
   "metadata": {},
   "outputs": [],
   "source": []
  },
  {
   "cell_type": "code",
   "execution_count": 234,
   "metadata": {},
   "outputs": [],
   "source": [
    "class logisticregression():\n",
    "    def __init__(self,train_data,train_labels,lr=0.01,batch_size=None,epoch=10):\n",
    "        dummy_once = np.ones((len(train_data),1))\n",
    "        self.train_data = np.hstack((dummy_once,train_data))\n",
    "        self.train_labels = train_labels\n",
    "        \n",
    "        self.params = np.zeros((len(self.train_data[0]),1))\n",
    "        \n",
    "        self.lr = lr\n",
    "        self.epoch = epoch\n",
    "        self.batch_size = batch_size\n",
    "        \n",
    "    def sigmoid(self,x):\n",
    "        return 1/(1+np.exp(-x))\n",
    "    \n",
    "    def cost(self,y,y_pred):\n",
    "        return -np.mean(y*np.log(y_pred)+(1-y)*np.log(1-y_pred))\n",
    "    \n",
    "    def gradient(self,y,y_pred,x):\n",
    "        return np.dot(x.T,(y_pred-y))\n",
    "    \n",
    "    def train(self):\n",
    "        for i in range(self.epoch):\n",
    "            y_pred = self.sigmoid(np.dot(self.train_data,self.params))\n",
    "            loss = self.cost(self.train_labels,y_pred)\n",
    "            \n",
    "            gra = self.gradient(self.train_labels,y_pred,self.train_data)\n",
    "            \n",
    "            self.params -= self.lr*gra\n",
    "            \n",
    "            if i%10 == 0:\n",
    "                print('Epoch : {}  Loss: {}'.format(i+1,loss))\n",
    "    def predict(self,test_data):\n",
    "        result = sigmoid(np.dot(test_data,self.params[1:])+self.params[0])\n",
    "        result[result >= 0.5 ] = 1\n",
    "        result[result < 0.5 ] = 0\n",
    "        return result\n",
    "    \n",
    "    def evaluate(self,test_data,labels):\n",
    "        accuracy = accuracy_score(self.predict(test_data),labels)\n",
    "        return accuracy"
   ]
  },
  {
   "cell_type": "code",
   "execution_count": 235,
   "metadata": {},
   "outputs": [],
   "source": [
    "logistic = logisticregression(X_train,y_train,epoch=100)"
   ]
  },
  {
   "cell_type": "code",
   "execution_count": 236,
   "metadata": {},
   "outputs": [
    {
     "name": "stdout",
     "output_type": "stream",
     "text": [
      "Epoch : 1  Loss: 0.6931471805599454\n",
      "Epoch : 11  Loss: 0.2991661807009864\n",
      "Epoch : 21  Loss: 0.011371657746110207\n",
      "Epoch : 31  Loss: 0.01057078520870101\n",
      "Epoch : 41  Loss: 0.009898383671356207\n",
      "Epoch : 51  Loss: 0.009310556643020974\n",
      "Epoch : 61  Loss: 0.008792038558256856\n",
      "Epoch : 71  Loss: 0.0083310746957437\n",
      "Epoch : 81  Loss: 0.007918443795442355\n",
      "Epoch : 91  Loss: 0.007546807899728929\n"
     ]
    }
   ],
   "source": [
    "logistic.train()"
   ]
  },
  {
   "cell_type": "code",
   "execution_count": 237,
   "metadata": {},
   "outputs": [
    {
     "data": {
      "text/plain": [
       "1.0"
      ]
     },
     "execution_count": 237,
     "metadata": {},
     "output_type": "execute_result"
    }
   ],
   "source": [
    "logistic.evaluate(X_test,y_test)"
   ]
  },
  {
   "cell_type": "code",
   "execution_count": null,
   "metadata": {},
   "outputs": [],
   "source": []
  }
 ],
 "metadata": {
  "kernelspec": {
   "display_name": "Python 3",
   "language": "python",
   "name": "python3"
  },
  "language_info": {
   "codemirror_mode": {
    "name": "ipython",
    "version": 3
   },
   "file_extension": ".py",
   "mimetype": "text/x-python",
   "name": "python",
   "nbconvert_exporter": "python",
   "pygments_lexer": "ipython3",
   "version": "3.7.3"
  }
 },
 "nbformat": 4,
 "nbformat_minor": 2
}
